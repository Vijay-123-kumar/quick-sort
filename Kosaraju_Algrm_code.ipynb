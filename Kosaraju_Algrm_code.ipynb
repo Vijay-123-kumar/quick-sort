{
  "nbformat": 4,
  "nbformat_minor": 0,
  "metadata": {
    "colab": {
      "provenance": [],
      "authorship_tag": "ABX9TyOws1roGEP8NvUlWwbful/z",
      "include_colab_link": true
    },
    "kernelspec": {
      "name": "python3",
      "display_name": "Python 3"
    },
    "language_info": {
      "name": "python"
    }
  },
  "cells": [
    {
      "cell_type": "markdown",
      "metadata": {
        "id": "view-in-github",
        "colab_type": "text"
      },
      "source": [
        "<a href=\"https://colab.research.google.com/github/Vijay-123-kumar/sorting-/blob/Algorithms/Kosaraju_Algrm_code.ipynb\" target=\"_parent\"><img src=\"https://colab.research.google.com/assets/colab-badge.svg\" alt=\"Open In Colab\"/></a>"
      ]
    },
    {
      "cell_type": "code",
      "execution_count": 6,
      "metadata": {
        "colab": {
          "base_uri": "https://localhost:8080/"
        },
        "id": "7TmohTqTpmnI",
        "outputId": "0adc8f14-1963-4b69-d876-3d157fdcd337"
      },
      "outputs": [
        {
          "output_type": "stream",
          "name": "stdout",
          "text": [
            "Strongly Connected Components:\n",
            "Component 1: ['B', 'C', 'A']\n",
            "Component 2: ['E', 'F', 'D']\n"
          ]
        }
      ],
      "source": [
        "from collections import defaultdict, deque\n",
        "\n",
        "class Graph:\n",
        "    def __init__(self):\n",
        "        self.graph = defaultdict(list)  # Adjacency list representation\n",
        "\n",
        "    def add_edge(self, u, v):\n",
        "        self.graph[u].append(v)\n",
        "\n",
        "    def _dfs(self, v, visited, stack):\n",
        "        visited.add(v)\n",
        "        for neighbor in self.graph[v]:\n",
        "            if neighbor not in visited:\n",
        "                self._dfs(neighbor, visited, stack)\n",
        "        stack.append(v)  # Push to stack after visiting all neighbors\n",
        "\n",
        "    def _transpose(self):\n",
        "        transposed = Graph()\n",
        "        for u in self.graph:\n",
        "            for v in self.graph[u]:\n",
        "                transposed.add_edge(v, u)  # Reverse the direction\n",
        "        return transposed\n",
        "\n",
        "    def kosaraju(self):\n",
        "        visited = set()\n",
        "        stack = []\n",
        "\n",
        "        # Step 1: Fill vertices in stack according to their finishing times\n",
        "        for vertex in self.graph:\n",
        "            if vertex not in visited:\n",
        "                self._dfs(vertex, visited, stack)\n",
        "\n",
        "        # Step 2: Get the transposed graph\n",
        "        transposed_graph = self._transpose()\n",
        "\n",
        "        # Step 3: Now process all vertices in order defined by stack\n",
        "        visited.clear()\n",
        "        sccs = []\n",
        "\n",
        "        while stack:\n",
        "            vertex = stack.pop()\n",
        "            if vertex not in visited:\n",
        "                component = []\n",
        "                transposed_graph._dfs(vertex, visited, component)\n",
        "                sccs.append(component)\n",
        "\n",
        "        return sccs\n",
        "\n",
        "# Example usage:\n",
        "g = Graph()\n",
        "g.add_edge('A', 'B')\n",
        "g.add_edge('B', 'C')\n",
        "g.add_edge('C', 'A')\n",
        "g.add_edge('B', 'D')\n",
        "g.add_edge('D', 'E')\n",
        "g.add_edge('E', 'F')\n",
        "g.add_edge('F', 'D')\n",
        "\n",
        "print(\"Strongly Connected Components:\")\n",
        "sccs = g.kosaraju()\n",
        "for index, component in enumerate(sccs):\n",
        "    print(f\"Component {index + 1}: {component}\")\n"
      ]
    }
  ]
}