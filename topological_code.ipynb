{
  "nbformat": 4,
  "nbformat_minor": 0,
  "metadata": {
    "colab": {
      "provenance": [],
      "authorship_tag": "ABX9TyPYu4G+icgXK89h7DActrUV",
      "include_colab_link": true
    },
    "kernelspec": {
      "name": "python3",
      "display_name": "Python 3"
    },
    "language_info": {
      "name": "python"
    }
  },
  "cells": [
    {
      "cell_type": "markdown",
      "metadata": {
        "id": "view-in-github",
        "colab_type": "text"
      },
      "source": [
        "<a href=\"https://colab.research.google.com/github/Vijay-123-kumar/sorting-/blob/sorting/topological_code.ipynb\" target=\"_parent\"><img src=\"https://colab.research.google.com/assets/colab-badge.svg\" alt=\"Open In Colab\"/></a>"
      ]
    },
    {
      "cell_type": "code",
      "execution_count": 1,
      "metadata": {
        "colab": {
          "base_uri": "https://localhost:8080/"
        },
        "id": "7TmohTqTpmnI",
        "outputId": "8652899c-80ba-4073-ac86-1ffa2ac8cdb3"
      },
      "outputs": [
        {
          "output_type": "stream",
          "name": "stdout",
          "text": [
            "['A', 'B', 'C', 'D', 'E']\n"
          ]
        }
      ],
      "source": [
        "from collections import defaultdict, deque\n",
        "\n",
        "def topological_sort(vertices, edges):\n",
        "    # Create a graph and a list to track in-degrees\n",
        "    graph = defaultdict(list)\n",
        "    in_degree = {v: 0 for v in vertices}\n",
        "\n",
        "    # Build the graph and in-degree count\n",
        "    for u, v in edges:\n",
        "        graph[u].append(v)\n",
        "        in_degree[v] += 1\n",
        "\n",
        "    # Initialize a queue with all vertices of in-degree 0\n",
        "    queue = deque([v for v in vertices if in_degree[v] == 0])\n",
        "    sorted_order = []\n",
        "\n",
        "    while queue:\n",
        "        node = queue.popleft()\n",
        "        sorted_order.append(node)\n",
        "\n",
        "        # Decrease the in-degree of neighboring nodes\n",
        "        for neighbor in graph[node]:\n",
        "            in_degree[neighbor] -= 1\n",
        "            # If in-degree becomes 0, add it to the queue\n",
        "            if in_degree[neighbor] == 0:\n",
        "                queue.append(neighbor)\n",
        "\n",
        "    # Check for cycles (if sorted_order doesn't include all vertices)\n",
        "    if len(sorted_order) != len(vertices):\n",
        "        raise ValueError(\"Graph has at least one cycle!\")\n",
        "\n",
        "    return sorted_order\n",
        "\n",
        "# Example usage:\n",
        "vertices = ['A', 'B', 'C', 'D', 'E']\n",
        "edges = [('A', 'C'), ('B', 'C'), ('C', 'D'), ('D', 'E')]\n",
        "\n",
        "try:\n",
        "    sorted_order = topological_sort(vertices, edges)\n",
        "    print(sorted_order)\n",
        "except ValueError as e:\n",
        "    print(e)\n"
      ]
    }
  ]
}