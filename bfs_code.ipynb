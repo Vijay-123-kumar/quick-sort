{
  "nbformat": 4,
  "nbformat_minor": 0,
  "metadata": {
    "colab": {
      "provenance": [],
      "authorship_tag": "ABX9TyNwnZsNUcTmBYNShSjAniId",
      "include_colab_link": true
    },
    "kernelspec": {
      "name": "python3",
      "display_name": "Python 3"
    },
    "language_info": {
      "name": "python"
    }
  },
  "cells": [
    {
      "cell_type": "markdown",
      "metadata": {
        "id": "view-in-github",
        "colab_type": "text"
      },
      "source": [
        "<a href=\"https://colab.research.google.com/github/Vijay-123-kumar/sorting-/blob/Algorithms/bfs_code.ipynb\" target=\"_parent\"><img src=\"https://colab.research.google.com/assets/colab-badge.svg\" alt=\"Open In Colab\"/></a>"
      ]
    },
    {
      "cell_type": "code",
      "execution_count": 4,
      "metadata": {
        "colab": {
          "base_uri": "https://localhost:8080/"
        },
        "id": "7TmohTqTpmnI",
        "outputId": "2194f636-239b-404c-8e06-3a5115d57b68"
      },
      "outputs": [
        {
          "output_type": "stream",
          "name": "stdout",
          "text": [
            "Breadth-First Search starting from node A:\n",
            "A B C D E F "
          ]
        }
      ],
      "source": [
        "from collections import deque\n",
        "\n",
        "def bfs(graph, start):\n",
        "    visited = set()  # Set to keep track of visited nodes\n",
        "    queue = deque([start])  # Initialize a queue\n",
        "\n",
        "    while queue:\n",
        "        node = queue.popleft()  # Dequeue a vertex from the queue\n",
        "        if node not in visited:\n",
        "            visited.add(node)  # Mark the node as visited\n",
        "            print(node, end=' ')  # Process the node (e.g., print it)\n",
        "\n",
        "            # Enqueue all unvisited neighbors\n",
        "            for neighbor in graph[node]:\n",
        "                if neighbor not in visited:\n",
        "                    queue.append(neighbor)\n",
        "\n",
        "# Example usage:\n",
        "graph = {\n",
        "    'A': ['B', 'C'],\n",
        "    'B': ['A', 'D', 'E'],\n",
        "    'C': ['A', 'F'],\n",
        "    'D': ['B'],\n",
        "    'E': ['B', 'F'],\n",
        "    'F': ['C', 'E']\n",
        "}\n",
        "\n",
        "print(\"Breadth-First Search starting from node A:\")\n",
        "bfs(graph, 'A')\n"
      ]
    }
  ]
}