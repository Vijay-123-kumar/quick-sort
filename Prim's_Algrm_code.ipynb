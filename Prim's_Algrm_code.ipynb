{
  "nbformat": 4,
  "nbformat_minor": 0,
  "metadata": {
    "colab": {
      "provenance": [],
      "authorship_tag": "ABX9TyNEEux51gFDm+oOW19QAvfo",
      "include_colab_link": true
    },
    "kernelspec": {
      "name": "python3",
      "display_name": "Python 3"
    },
    "language_info": {
      "name": "python"
    }
  },
  "cells": [
    {
      "cell_type": "markdown",
      "metadata": {
        "id": "view-in-github",
        "colab_type": "text"
      },
      "source": [
        "<a href=\"https://colab.research.google.com/github/Vijay-123-kumar/sorting-/blob/Algorithms/Prim's_Algrm_code.ipynb\" target=\"_parent\"><img src=\"https://colab.research.google.com/assets/colab-badge.svg\" alt=\"Open In Colab\"/></a>"
      ]
    },
    {
      "cell_type": "code",
      "execution_count": 7,
      "metadata": {
        "colab": {
          "base_uri": "https://localhost:8080/"
        },
        "id": "7TmohTqTpmnI",
        "outputId": "305ed8a6-605b-43c7-d64c-cd5dd544c9ff"
      },
      "outputs": [
        {
          "output_type": "stream",
          "name": "stdout",
          "text": [
            "Edges in the Minimum Spanning Tree:\n",
            "Vertex: 1, Weight: 2\n",
            "Vertex: 2, Weight: 3\n",
            "Vertex: 4, Weight: 5\n",
            "Vertex: 3, Weight: 6\n"
          ]
        }
      ],
      "source": [
        "import heapq\n",
        "\n",
        "def prim(graph):\n",
        "    # Initialize a priority queue\n",
        "    mst_edges = []\n",
        "    visited = set()\n",
        "    min_heap = [(0, 0)]  # (weight, start_vertex)\n",
        "\n",
        "    while min_heap:\n",
        "        weight, u = heapq.heappop(min_heap)  # Get the edge with the smallest weight\n",
        "\n",
        "        if u not in visited:\n",
        "            visited.add(u)\n",
        "            mst_edges.append((weight, u))\n",
        "\n",
        "            # Explore neighbors\n",
        "            for v, edge_weight in graph[u]:\n",
        "                if v not in visited:\n",
        "                    heapq.heappush(min_heap, (edge_weight, v))\n",
        "\n",
        "    # Remove the initial (0, 0) that was added to the MST\n",
        "    mst_edges.pop(0)\n",
        "    return mst_edges\n",
        "\n",
        "# Example usage:\n",
        "graph = {\n",
        "    0: [(1, 2), (3, 6)],\n",
        "    1: [(0, 2), (2, 3), (3, 8), (4, 5)],\n",
        "    2: [(1, 3), (4, 7)],\n",
        "    3: [(0, 6), (1, 8)],\n",
        "    4: [(1, 5), (2, 7)]\n",
        "}\n",
        "\n",
        "mst = prim(graph)\n",
        "print(\"Edges in the Minimum Spanning Tree:\")\n",
        "for weight, vertex in mst:\n",
        "    print(f\"Vertex: {vertex}, Weight: {weight}\")\n"
      ]
    }
  ]
}