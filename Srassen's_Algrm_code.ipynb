{
  "nbformat": 4,
  "nbformat_minor": 0,
  "metadata": {
    "colab": {
      "provenance": [],
      "authorship_tag": "ABX9TyMrivosSm5sPSsS+tIOOtL3",
      "include_colab_link": true
    },
    "kernelspec": {
      "name": "python3",
      "display_name": "Python 3"
    },
    "language_info": {
      "name": "python"
    }
  },
  "cells": [
    {
      "cell_type": "markdown",
      "metadata": {
        "id": "view-in-github",
        "colab_type": "text"
      },
      "source": [
        "<a href=\"https://colab.research.google.com/github/Vijay-123-kumar/sorting-/blob/Algorithms/Srassen's_Algrm_code.ipynb\" target=\"_parent\"><img src=\"https://colab.research.google.com/assets/colab-badge.svg\" alt=\"Open In Colab\"/></a>"
      ]
    },
    {
      "cell_type": "code",
      "execution_count": 15,
      "metadata": {
        "colab": {
          "base_uri": "https://localhost:8080/"
        },
        "id": "7TmohTqTpmnI",
        "outputId": "524df70b-efea-4a93-fd77-58737c009c02"
      },
      "outputs": [
        {
          "output_type": "stream",
          "name": "stdout",
          "text": [
            "Result of Strassen's matrix multiplication:\n",
            "[[ 90. 100. 110. 120.]\n",
            " [202. 228. 254. 280.]\n",
            " [314. 356. 398. 440.]\n",
            " [426. 484. 542. 600.]]\n"
          ]
        }
      ],
      "source": [
        "import numpy as np\n",
        "\n",
        "def strassen_matrix_multiplication(A, B):\n",
        "    if len(A) == 1:\n",
        "        return A * B\n",
        "\n",
        "    # Splitting the matrices into quadrants\n",
        "    mid = len(A) // 2\n",
        "    A11 = A[:mid, :mid]\n",
        "    A12 = A[:mid, mid:]\n",
        "    A21 = A[mid:, :mid]\n",
        "    A22 = A[mid:, mid:]\n",
        "\n",
        "    B11 = B[:mid, :mid]\n",
        "    B12 = B[:mid, mid:]\n",
        "    B21 = B[mid:, :mid]\n",
        "    B22 = B[mid:, mid:]\n",
        "\n",
        "    # Calculating the 7 products using Strassen's formulas\n",
        "    M1 = strassen_matrix_multiplication(A11 + A22, B11 + B22)\n",
        "    M2 = strassen_matrix_multiplication(A21 + A22, B11)\n",
        "    M3 = strassen_matrix_multiplication(A11, B12 - B22)\n",
        "    M4 = strassen_matrix_multiplication(A22, B21 - B11)\n",
        "    M5 = strassen_matrix_multiplication(A11 + A12, B22)\n",
        "    M6 = strassen_matrix_multiplication(A21 - A11, B11 + B12)\n",
        "    M7 = strassen_matrix_multiplication(A12 - A22, B21 + B22)\n",
        "\n",
        "    # Combining the results into a single matrix\n",
        "    C11 = M1 + M4 - M5 + M7\n",
        "    C12 = M3 + M5\n",
        "    C21 = M2 + M4\n",
        "    C22 = M1 - M2 + M3 + M6\n",
        "\n",
        "    # Constructing the resulting matrix\n",
        "    C = np.zeros((len(A), len(B)))\n",
        "    C[:mid, :mid] = C11\n",
        "    C[:mid, mid:] = C12\n",
        "    C[mid:, :mid] = C21\n",
        "    C[mid:, mid:] = C22\n",
        "\n",
        "    return C\n",
        "\n",
        "# Example usage:\n",
        "A = np.array([[1, 2, 3, 4],\n",
        "              [5, 6, 7, 8],\n",
        "              [9, 10, 11, 12],\n",
        "              [13, 14, 15, 16]])\n",
        "\n",
        "B = np.array([[1, 2, 3, 4],\n",
        "              [5, 6, 7, 8],\n",
        "              [9, 10, 11, 12],\n",
        "              [13, 14, 15, 16]])\n",
        "\n",
        "result = strassen_matrix_multiplication(A, B)\n",
        "print(\"Result of Strassen's matrix multiplication:\")\n",
        "print(result)\n"
      ]
    }
  ]
}