{
  "nbformat": 4,
  "nbformat_minor": 0,
  "metadata": {
    "colab": {
      "provenance": [],
      "authorship_tag": "ABX9TyP5Jj0/ECcy2nOvrXkNRXpc",
      "include_colab_link": true
    },
    "kernelspec": {
      "name": "python3",
      "display_name": "Python 3"
    },
    "language_info": {
      "name": "python"
    }
  },
  "cells": [
    {
      "cell_type": "markdown",
      "metadata": {
        "id": "view-in-github",
        "colab_type": "text"
      },
      "source": [
        "<a href=\"https://colab.research.google.com/github/Vijay-123-kumar/sorting-/blob/Algorithms/Dijkstra's_Algrm_code.ipynb\" target=\"_parent\"><img src=\"https://colab.research.google.com/assets/colab-badge.svg\" alt=\"Open In Colab\"/></a>"
      ]
    },
    {
      "cell_type": "code",
      "execution_count": 10,
      "metadata": {
        "colab": {
          "base_uri": "https://localhost:8080/"
        },
        "id": "7TmohTqTpmnI",
        "outputId": "f84841c6-8d92-4b76-a8dc-8df67b9c4de9"
      },
      "outputs": [
        {
          "output_type": "stream",
          "name": "stdout",
          "text": [
            "Shortest distances from vertex 'A':\n",
            "Distance to A: 0\n",
            "Distance to B: 1\n",
            "Distance to C: 3\n",
            "Distance to D: 4\n"
          ]
        }
      ],
      "source": [
        "import heapq\n",
        "\n",
        "def dijkstra(graph, start):\n",
        "    # Priority queue to store (distance, vertex)\n",
        "    min_heap = [(0, start)]\n",
        "    distances = {vertex: float('inf') for vertex in graph}\n",
        "    distances[start] = 0\n",
        "\n",
        "    while min_heap:\n",
        "        current_distance, current_vertex = heapq.heappop(min_heap)\n",
        "\n",
        "        # Nodes can be added to the heap multiple times. We only process the shortest distance.\n",
        "        if current_distance > distances[current_vertex]:\n",
        "            continue\n",
        "\n",
        "        for neighbor, weight in graph[current_vertex]:\n",
        "            distance = current_distance + weight\n",
        "\n",
        "            # Only consider this new path if it's better\n",
        "            if distance < distances[neighbor]:\n",
        "                distances[neighbor] = distance\n",
        "                heapq.heappush(min_heap, (distance, neighbor))\n",
        "\n",
        "    return distances\n",
        "\n",
        "# Example usage:\n",
        "graph = {\n",
        "    'A': [('B', 1), ('C', 4)],\n",
        "    'B': [('A', 1), ('C', 2), ('D', 5)],\n",
        "    'C': [('A', 4), ('B', 2), ('D', 1)],\n",
        "    'D': [('B', 5), ('C', 1)]\n",
        "}\n",
        "\n",
        "start_vertex = 'A'\n",
        "distances = dijkstra(graph, start_vertex)\n",
        "\n",
        "print(f\"Shortest distances from vertex '{start_vertex}':\")\n",
        "for vertex, distance in distances.items():\n",
        "    print(f\"Distance to {vertex}: {distance}\")\n"
      ]
    }
  ]
}