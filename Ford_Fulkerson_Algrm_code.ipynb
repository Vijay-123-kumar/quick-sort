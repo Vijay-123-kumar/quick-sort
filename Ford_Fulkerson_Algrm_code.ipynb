{
  "nbformat": 4,
  "nbformat_minor": 0,
  "metadata": {
    "colab": {
      "provenance": [],
      "authorship_tag": "ABX9TyO7d/YFqHPlqej0+SJwYLh1",
      "include_colab_link": true
    },
    "kernelspec": {
      "name": "python3",
      "display_name": "Python 3"
    },
    "language_info": {
      "name": "python"
    }
  },
  "cells": [
    {
      "cell_type": "markdown",
      "metadata": {
        "id": "view-in-github",
        "colab_type": "text"
      },
      "source": [
        "<a href=\"https://colab.research.google.com/github/Vijay-123-kumar/sorting-/blob/Algorithms/Ford_Fulkerson_Algrm_code.ipynb\" target=\"_parent\"><img src=\"https://colab.research.google.com/assets/colab-badge.svg\" alt=\"Open In Colab\"/></a>"
      ]
    },
    {
      "cell_type": "code",
      "execution_count": 14,
      "metadata": {
        "colab": {
          "base_uri": "https://localhost:8080/"
        },
        "id": "7TmohTqTpmnI",
        "outputId": "1c00ba3d-da19-498b-b326-6cc97c35490f"
      },
      "outputs": [
        {
          "output_type": "stream",
          "name": "stdout",
          "text": [
            "Maximum Flow: 23\n"
          ]
        }
      ],
      "source": [
        "from collections import defaultdict, deque\n",
        "\n",
        "class Graph:\n",
        "    def __init__(self, vertices):\n",
        "        self.V = vertices  # Number of vertices\n",
        "        self.graph = defaultdict(list)  # Adjacency list for the graph\n",
        "        self.capacity = {}  # Store the capacities of edges\n",
        "\n",
        "    def add_edge(self, u, v, cap):\n",
        "        self.graph[u].append(v)\n",
        "        self.graph[v].append(u)  # Add reverse edge for residual graph\n",
        "        self.capacity[(u, v)] = cap\n",
        "        self.capacity[(v, u)] = 0  # Initialize reverse capacity\n",
        "\n",
        "    def bfs(self, source, sink, parent):\n",
        "        visited = [False] * self.V\n",
        "        queue = deque([source])\n",
        "        visited[source] = True\n",
        "\n",
        "        while queue:\n",
        "            u = queue.popleft()\n",
        "\n",
        "            for v in self.graph[u]:\n",
        "                if not visited[v] and self.capacity[(u, v)] > 0:  # Check capacity\n",
        "                    queue.append(v)\n",
        "                    visited[v] = True\n",
        "                    parent[v] = u\n",
        "                    if v == sink:\n",
        "                        return True\n",
        "        return False\n",
        "\n",
        "    def ford_fulkerson(self, source, sink):\n",
        "        parent = [-1] * self.V  # Array to store the path\n",
        "        max_flow = 0\n",
        "\n",
        "        while self.bfs(source, sink, parent):\n",
        "            # Find the maximum flow through the path found.\n",
        "            path_flow = float('Inf')\n",
        "            s = sink\n",
        "\n",
        "            while s != source:\n",
        "                path_flow = min(path_flow, self.capacity[(parent[s], s)])\n",
        "                s = parent[s]\n",
        "\n",
        "            # update residual capacities of the edges and reverse edges\n",
        "            v = sink\n",
        "            while v != source:\n",
        "                u = parent[v]\n",
        "                self.capacity[(u, v)] -= path_flow\n",
        "                self.capacity[(v, u)] += path_flow\n",
        "                v = parent[v]\n",
        "\n",
        "            max_flow += path_flow\n",
        "\n",
        "        return max_flow\n",
        "\n",
        "# Example usage:\n",
        "g = Graph(6)  # Create a graph with 6 vertices\n",
        "g.add_edge(0, 1, 16)\n",
        "g.add_edge(0, 2, 13)\n",
        "g.add_edge(1, 2, 10)\n",
        "g.add_edge(1, 3, 12)\n",
        "g.add_edge(2, 1, 4)\n",
        "g.add_edge(2, 4, 14)\n",
        "g.add_edge(3, 2, 9)\n",
        "g.add_edge(3, 5, 20)\n",
        "g.add_edge(4, 3, 7)\n",
        "g.add_edge(4, 5, 4)\n",
        "\n",
        "source = 0\n",
        "sink = 5\n",
        "max_flow = g.ford_fulkerson(source, sink)\n",
        "print(f\"Maximum Flow: {max_flow}\")\n"
      ]
    }
  ]
}