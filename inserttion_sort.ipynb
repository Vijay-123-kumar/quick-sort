{
  "nbformat": 4,
  "nbformat_minor": 0,
  "metadata": {
    "colab": {
      "provenance": [],
      "authorship_tag": "ABX9TyPgxwNCulmbOqtKR53jx4fL",
      "include_colab_link": true
    },
    "kernelspec": {
      "name": "python3",
      "display_name": "Python 3"
    },
    "language_info": {
      "name": "python"
    }
  },
  "cells": [
    {
      "cell_type": "markdown",
      "metadata": {
        "id": "view-in-github",
        "colab_type": "text"
      },
      "source": [
        "<a href=\"https://colab.research.google.com/github/Vijay-123-kumar/sorting-/blob/sorting/inserttion_sort.ipynb\" target=\"_parent\"><img src=\"https://colab.research.google.com/assets/colab-badge.svg\" alt=\"Open In Colab\"/></a>"
      ]
    },
    {
      "cell_type": "code",
      "execution_count": 2,
      "metadata": {
        "colab": {
          "base_uri": "https://localhost:8080/"
        },
        "id": "7TmohTqTpmnI",
        "outputId": "9198b9e2-c0f0-4e37-a30c-0520034205f6"
      },
      "outputs": [
        {
          "output_type": "stream",
          "name": "stdout",
          "text": [
            "[5, 6, 11, 12, 13]\n"
          ]
        }
      ],
      "source": [
        "def insertion_sort(arr):\n",
        "    # Traverse through 1 to len(arr)\n",
        "    for i in range(1, len(arr)):\n",
        "        key = arr[i]\n",
        "        j = i - 1\n",
        "\n",
        "        # Move elements of arr[0..i-1] that are greater than key\n",
        "        # to one position ahead of their current position\n",
        "        while j >= 0 and arr[j] > key:\n",
        "            arr[j + 1] = arr[j]\n",
        "            j -= 1\n",
        "\n",
        "        # Place the key at its correct position\n",
        "        arr[j + 1] = key\n",
        "\n",
        "# Example usage:\n",
        "arr = [12, 11, 13, 5, 6]\n",
        "insertion_sort(arr)\n",
        "print(arr)\n"
      ]
    }
  ]
}