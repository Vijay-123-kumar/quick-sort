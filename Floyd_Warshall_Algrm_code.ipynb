{
  "nbformat": 4,
  "nbformat_minor": 0,
  "metadata": {
    "colab": {
      "provenance": [],
      "authorship_tag": "ABX9TyNtiq+bp6L/dce9gbS0CtDB",
      "include_colab_link": true
    },
    "kernelspec": {
      "name": "python3",
      "display_name": "Python 3"
    },
    "language_info": {
      "name": "python"
    }
  },
  "cells": [
    {
      "cell_type": "markdown",
      "metadata": {
        "id": "view-in-github",
        "colab_type": "text"
      },
      "source": [
        "<a href=\"https://colab.research.google.com/github/Vijay-123-kumar/sorting-/blob/Algorithms/Floyd_Warshall_Algrm_code.ipynb\" target=\"_parent\"><img src=\"https://colab.research.google.com/assets/colab-badge.svg\" alt=\"Open In Colab\"/></a>"
      ]
    },
    {
      "cell_type": "code",
      "execution_count": 16,
      "metadata": {
        "colab": {
          "base_uri": "https://localhost:8080/"
        },
        "id": "7TmohTqTpmnI",
        "outputId": "785bce39-11d1-443e-c253-9b94ec9e0ebe"
      },
      "outputs": [
        {
          "output_type": "stream",
          "name": "stdout",
          "text": [
            "Shortest path matrix:\n",
            "[[0. 3. 5. 6.]\n",
            " [5. 0. 2. 3.]\n",
            " [3. 6. 0. 1.]\n",
            " [2. 5. 7. 0.]]\n"
          ]
        }
      ],
      "source": [
        "import numpy as np\n",
        "\n",
        "def floyd_warshall(graph):\n",
        "    # Number of vertices\n",
        "    num_vertices = len(graph)\n",
        "\n",
        "    # Create a distance matrix initialized to the input graph\n",
        "    distance = np.array(graph, copy=True)\n",
        "\n",
        "    # Update the distance matrix with Floyd-Warshall algorithm\n",
        "    for k in range(num_vertices):\n",
        "        for i in range(num_vertices):\n",
        "            for j in range(num_vertices):\n",
        "                # Update the distance if a shorter path is found\n",
        "                if distance[i][j] > distance[i][k] + distance[k][j]:\n",
        "                    distance[i][j] = distance[i][k] + distance[k][j]\n",
        "\n",
        "    return distance\n",
        "\n",
        "# Example usage:\n",
        "# Define a graph with edge weights (use float('inf') for no direct edge)\n",
        "graph = [\n",
        "    [0, 3, float('inf'), 7],\n",
        "    [8, 0, 2, float('inf')],\n",
        "    [5, float('inf'), 0, 1],\n",
        "    [2, float('inf'), float('inf'), 0]\n",
        "]\n",
        "\n",
        "shortest_paths = floyd_warshall(graph)\n",
        "\n",
        "print(\"Shortest path matrix:\")\n",
        "print(shortest_paths)\n"
      ]
    }
  ]
}