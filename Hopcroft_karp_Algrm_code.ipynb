{
  "nbformat": 4,
  "nbformat_minor": 0,
  "metadata": {
    "colab": {
      "provenance": [],
      "authorship_tag": "ABX9TyO6riSq5UoKFmlPsl1bM2fx",
      "include_colab_link": true
    },
    "kernelspec": {
      "name": "python3",
      "display_name": "Python 3"
    },
    "language_info": {
      "name": "python"
    }
  },
  "cells": [
    {
      "cell_type": "markdown",
      "metadata": {
        "id": "view-in-github",
        "colab_type": "text"
      },
      "source": [
        "<a href=\"https://colab.research.google.com/github/Vijay-123-kumar/sorting-/blob/Algorithms/Hopcroft_karp_Algrm_code.ipynb\" target=\"_parent\"><img src=\"https://colab.research.google.com/assets/colab-badge.svg\" alt=\"Open In Colab\"/></a>"
      ]
    },
    {
      "cell_type": "code",
      "execution_count": 12,
      "metadata": {
        "colab": {
          "base_uri": "https://localhost:8080/"
        },
        "id": "7TmohTqTpmnI",
        "outputId": "b164234a-75e0-41af-b972-8cc427e7fccd"
      },
      "outputs": [
        {
          "output_type": "stream",
          "name": "stdout",
          "text": [
            "Maximum Matching: 4\n"
          ]
        }
      ],
      "source": [
        "from collections import deque, defaultdict\n",
        "\n",
        "class BipartiteGraph:\n",
        "    def __init__(self, n, m):\n",
        "        self.n = n  # Number of vertices in left set\n",
        "        self.m = m  # Number of vertices in right set\n",
        "        self.graph = defaultdict(list)\n",
        "\n",
        "    def add_edge(self, u, v):\n",
        "        self.graph[u].append(v)\n",
        "\n",
        "    def bfs(self, pair_u, pair_v):\n",
        "        queue = deque()\n",
        "        distances = [-1] * (self.n + self.m)\n",
        "\n",
        "        for u in range(self.n):\n",
        "            if pair_u[u] == -1:\n",
        "                queue.append(u)\n",
        "                distances[u] = 0\n",
        "\n",
        "        found_augmenting_path = False\n",
        "\n",
        "        while queue:\n",
        "            u = queue.popleft()\n",
        "            for v in self.graph[u]:\n",
        "                if pair_v[v] == -1:\n",
        "                    found_augmenting_path = True\n",
        "                elif distances[pair_v[v]] == -1:\n",
        "                    distances[pair_v[v]] = distances[u] + 1\n",
        "                    queue.append(pair_v[v])\n",
        "\n",
        "        return found_augmenting_path, distances\n",
        "\n",
        "    def dfs(self, u, pair_u, pair_v, distances):\n",
        "        for v in self.graph[u]:\n",
        "            if pair_v[v] == -1 or (distances[pair_v[v]] == distances[u] + 1 and self.dfs(pair_v[v], pair_u, pair_v, distances)):\n",
        "                pair_u[u] = v\n",
        "                pair_v[v] = u\n",
        "                return True\n",
        "        return False\n",
        "\n",
        "    def hopcroft_karp(self):\n",
        "        pair_u = [-1] * self.n\n",
        "        pair_v = [-1] * self.m\n",
        "        matching = 0\n",
        "\n",
        "        while True:\n",
        "            found_augmenting_path, distances = self.bfs(pair_u, pair_v)\n",
        "            if not found_augmenting_path:\n",
        "                break\n",
        "\n",
        "            for u in range(self.n):\n",
        "                if pair_u[u] == -1 and self.dfs(u, pair_u, pair_v, distances):\n",
        "                    matching += 1\n",
        "\n",
        "        return matching\n",
        "\n",
        "# Example usage:\n",
        "bg = BipartiteGraph(4, 4)\n",
        "bg.add_edge(0, 0)\n",
        "bg.add_edge(0, 1)\n",
        "bg.add_edge(1, 0)\n",
        "bg.add_edge(1, 2)\n",
        "bg.add_edge(2, 1)\n",
        "bg.add_edge(3, 3)\n",
        "\n",
        "max_matching = bg.hopcroft_karp()\n",
        "print(f\"Maximum Matching: {max_matching}\")\n"
      ]
    }
  ]
}