{
  "nbformat": 4,
  "nbformat_minor": 0,
  "metadata": {
    "colab": {
      "provenance": [],
      "authorship_tag": "ABX9TyOTfNj5aoaeIa45kQnF9VKy",
      "include_colab_link": true
    },
    "kernelspec": {
      "name": "python3",
      "display_name": "Python 3"
    },
    "language_info": {
      "name": "python"
    }
  },
  "cells": [
    {
      "cell_type": "markdown",
      "metadata": {
        "id": "view-in-github",
        "colab_type": "text"
      },
      "source": [
        "<a href=\"https://colab.research.google.com/github/Vijay-123-kumar/sorting-/blob/Algorithms/Edmond_Blossom_Algrm_code.ipynb\" target=\"_parent\"><img src=\"https://colab.research.google.com/assets/colab-badge.svg\" alt=\"Open In Colab\"/></a>"
      ]
    },
    {
      "cell_type": "code",
      "execution_count": 13,
      "metadata": {
        "colab": {
          "base_uri": "https://localhost:8080/"
        },
        "id": "7TmohTqTpmnI",
        "outputId": "4b44f714-a390-45c2-b1e2-3552f078c2d6"
      },
      "outputs": [
        {
          "output_type": "stream",
          "name": "stdout",
          "text": [
            "Maximum Matching:\n",
            "Edge: (0, 2)\n",
            "Edge: (1, 3)\n",
            "Edge: (4, 5)\n",
            "Edge: (6, 7)\n"
          ]
        }
      ],
      "source": [
        "from collections import defaultdict\n",
        "\n",
        "class Graph:\n",
        "    def __init__(self, vertices):\n",
        "        self.vertices = vertices\n",
        "        self.graph = defaultdict(list)\n",
        "\n",
        "    def add_edge(self, u, v):\n",
        "        self.graph[u].append(v)\n",
        "        self.graph[v].append(u)  # Undirected graph\n",
        "\n",
        "    def find_augmenting_path(self, u, match, visited, parent):\n",
        "        for v in self.graph[u]:\n",
        "            if not visited[v]:\n",
        "                visited[v] = True\n",
        "                if match[v] == -1 or self.find_augmenting_path(match[v], match, visited, parent):\n",
        "                    match[v] = u\n",
        "                    match[u] = v\n",
        "                    return True\n",
        "        return False\n",
        "\n",
        "    def edmonds_blossom(self):\n",
        "        match = [-1] * self.vertices\n",
        "        for u in range(self.vertices):\n",
        "            if match[u] == -1:\n",
        "                visited = [False] * self.vertices\n",
        "                if self.find_augmenting_path(u, match, visited, None):\n",
        "                    pass  # found an augmenting path\n",
        "        return match\n",
        "\n",
        "# Example usage:\n",
        "g = Graph(8)  # Create a graph with 8 vertices\n",
        "g.add_edge(0, 1)\n",
        "g.add_edge(0, 2)\n",
        "g.add_edge(1, 3)\n",
        "g.add_edge(2, 3)\n",
        "g.add_edge(3, 4)\n",
        "g.add_edge(4, 5)\n",
        "g.add_edge(5, 6)\n",
        "g.add_edge(6, 7)\n",
        "\n",
        "matching = g.edmonds_blossom()\n",
        "print(\"Maximum Matching:\")\n",
        "for i in range(len(matching)):\n",
        "    if matching[i] != -1 and i < matching[i]:\n",
        "        print(f\"Edge: ({i}, {matching[i]})\")\n"
      ]
    }
  ]
}