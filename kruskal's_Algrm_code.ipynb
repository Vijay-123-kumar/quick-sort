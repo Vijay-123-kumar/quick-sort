{
  "nbformat": 4,
  "nbformat_minor": 0,
  "metadata": {
    "colab": {
      "provenance": [],
      "authorship_tag": "ABX9TyObzBfQqG2wRmCxViqhfc/t",
      "include_colab_link": true
    },
    "kernelspec": {
      "name": "python3",
      "display_name": "Python 3"
    },
    "language_info": {
      "name": "python"
    }
  },
  "cells": [
    {
      "cell_type": "markdown",
      "metadata": {
        "id": "view-in-github",
        "colab_type": "text"
      },
      "source": [
        "<a href=\"https://colab.research.google.com/github/Vijay-123-kumar/sorting-/blob/Algorithms/kruskal's_Algrm_code.ipynb\" target=\"_parent\"><img src=\"https://colab.research.google.com/assets/colab-badge.svg\" alt=\"Open In Colab\"/></a>"
      ]
    },
    {
      "cell_type": "code",
      "execution_count": 8,
      "metadata": {
        "colab": {
          "base_uri": "https://localhost:8080/"
        },
        "id": "7TmohTqTpmnI",
        "outputId": "0664eb3c-6ee6-478f-89f4-2d6271b005a6"
      },
      "outputs": [
        {
          "output_type": "stream",
          "name": "stdout",
          "text": [
            "Edges in the Minimum Spanning Tree:\n",
            "Edge: (2, 3), Weight: 4\n",
            "Edge: (0, 3), Weight: 5\n",
            "Edge: (0, 1), Weight: 10\n",
            "Total weight of MST: 19\n"
          ]
        }
      ],
      "source": [
        "class UnionFind:\n",
        "    def __init__(self, size):\n",
        "        self.parent = list(range(size))\n",
        "        self.rank = [1] * size\n",
        "\n",
        "    def find(self, u):\n",
        "        if self.parent[u] != u:\n",
        "            self.parent[u] = self.find(self.parent[u])  # Path compression\n",
        "        return self.parent[u]\n",
        "\n",
        "    def union(self, u, v):\n",
        "        root_u = self.find(u)\n",
        "        root_v = self.find(v)\n",
        "\n",
        "        if root_u != root_v:\n",
        "            # Union by rank\n",
        "            if self.rank[root_u] > self.rank[root_v]:\n",
        "                self.parent[root_v] = root_u\n",
        "            elif self.rank[root_u] < self.rank[root_v]:\n",
        "                self.parent[root_u] = root_v\n",
        "            else:\n",
        "                self.parent[root_v] = root_u\n",
        "                self.rank[root_u] += 1\n",
        "            return True\n",
        "        return False\n",
        "\n",
        "def kruskal(edges, num_vertices):\n",
        "    # Sort edges based on weight\n",
        "    edges.sort(key=lambda x: x[2])\n",
        "\n",
        "    uf = UnionFind(num_vertices)\n",
        "    mst_edges = []\n",
        "    total_weight = 0\n",
        "\n",
        "    for u, v, weight in edges:\n",
        "        if uf.union(u, v):\n",
        "            mst_edges.append((u, v, weight))\n",
        "            total_weight += weight\n",
        "\n",
        "    return mst_edges, total_weight\n",
        "\n",
        "# Example usage:\n",
        "edges = [\n",
        "    (0, 1, 10),\n",
        "    (0, 2, 6),\n",
        "    (0, 3, 5),\n",
        "    (1, 3, 15),\n",
        "    (2, 3, 4)\n",
        "]\n",
        "num_vertices = 4\n",
        "\n",
        "mst_edges, total_weight = kruskal(edges, num_vertices)\n",
        "print(\"Edges in the Minimum Spanning Tree:\")\n",
        "for u, v, weight in mst_edges:\n",
        "    print(f\"Edge: ({u}, {v}), Weight: {weight}\")\n",
        "print(f\"Total weight of MST: {total_weight}\")\n"
      ]
    }
  ]
}